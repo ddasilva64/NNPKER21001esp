{
  "nbformat": 4,
  "nbformat_minor": 0,
  "metadata": {
    "kernelspec": {
      "display_name": "Python 3",
      "language": "python",
      "name": "python3"
    },
    "language_info": {
      "codemirror_mode": {
        "name": "ipython",
        "version": 3
      },
      "file_extension": ".py",
      "mimetype": "text/x-python",
      "name": "python",
      "nbconvert_exporter": "python",
      "pygments_lexer": "ipython3",
      "version": "3.7.7"
    },
    "colab": {
      "provenance": []
    }
  },
  "cells": [
    {
      "cell_type": "code",
      "metadata": {
        "id": "lLJOjzBUkkbt"
      },
      "source": [
        "# Importamos NumPy\n",
        "import numpy as np"
      ],
      "execution_count": 2,
      "outputs": []
    },
    {
      "cell_type": "code",
      "source": [
        "# Función para obtener las características de un objeto\n",
        "def funcFeatures(obj, name):\n",
        "\n",
        "  dimension = obj.ndim\n",
        "  tipo      = ''\n",
        "\n",
        "  if (dimension == 0):\n",
        "    tipo = 'escalar'\n",
        "  elif (dimension == 1):\n",
        "    tipo = 'vector'\n",
        "  elif (dimension == 2):\n",
        "    tipo = 'matriz'\n",
        "  elif (dimension >= 3):\n",
        "    tipo = 'tensor'\n",
        "\n",
        "  print(' -------------------------------\\n','Caracteríscas del objeto: ' + name, '\\n\\tTipo de objeto:\\t', tipo, \"\\n\\tValor/es:\\t\", obj, \"\\n\\tShape:\\t\\t\", obj.shape, \"\\n\\tDimensión/ones:\\t\", obj.ndim)"
      ],
      "metadata": {
        "id": "sAQ3kJrYYOXz"
      },
      "execution_count": 83,
      "outputs": []
    },
    {
      "cell_type": "code",
      "metadata": {
        "id": "_Uj2UxMekkb6"
      },
      "source": [
        "# Definición de los objetos\n",
        "obj01 = np.array(37)\n",
        "obj02 = np.array([2, 3, 5, 7, 11])\n",
        "obj03 = np.array([[2 , 3 , 5 , 7 , 11],\n",
        "                  [13, 17, 19, 23, 29]])\n",
        "obj04 = np.array([[[2 , 3 , 5 , 7 , 11],\n",
        "                   [13, 17, 19, 23, 29]],\n",
        "                  [[2 , 4 , 6 , 8 , 10],\n",
        "                   [12, 14, 16, 18, 20]],\n",
        "                  [[1 , 3 , 5 , 7 , 9 ],\n",
        "                   [11, 13, 15, 17, 19]]])\n",
        "obj05 = x = np.array([[0, 1],\n",
        "                      [2, 3],\n",
        "                      [4, 5],\n",
        "                      [6, 7]])"
      ],
      "execution_count": 81,
      "outputs": []
    },
    {
      "cell_type": "code",
      "source": [
        "# Obtención de las características de los objetos\n",
        "funcFeatures(obj01, 'obj01')\n",
        "print()\n",
        "funcFeatures(obj02, 'obj02')\n",
        "print()\n",
        "funcFeatures(obj03, 'obj03')\n",
        "print()\n",
        "funcFeatures(obj04, 'obj04')\n",
        "print()\n",
        "funcFeatures(obj05, 'obj05 - original -')\n",
        "print()\n",
        "funcFeatures(obj05.reshape(8, 1), 'obj05 - reshape(8, 1) -')\n",
        "print()\n",
        "funcFeatures(obj05.reshape(2, 4), 'obj05 - reshape(2, 4) -')\n",
        "print()\n",
        "funcFeatures(obj05.reshape(2, 4), 'obj05 - reshape(2, 4) -')\n",
        "print()\n",
        "funcFeatures(obj05, 'obj05 - original -')\n",
        "print()\n",
        "funcFeatures(obj05.T, 'obj05 - traspuesta -')"
      ],
      "metadata": {
        "colab": {
          "base_uri": "https://localhost:8080/"
        },
        "id": "owKgJRY0cchF",
        "outputId": "2ce10317-8063-47e9-f636-1841e36963cc"
      },
      "execution_count": 85,
      "outputs": [
        {
          "output_type": "stream",
          "name": "stdout",
          "text": [
            " -------------------------------\n",
            " Caracteríscas del objeto: obj01 \n",
            "\tTipo de objeto:\t escalar \n",
            "\tValor/es:\t 37 \n",
            "\tShape:\t\t () \n",
            "\tDimensión/ones:\t 0\n",
            "\n",
            " -------------------------------\n",
            " Caracteríscas del objeto: obj02 \n",
            "\tTipo de objeto:\t vector \n",
            "\tValor/es:\t [ 2  3  5  7 11] \n",
            "\tShape:\t\t (5,) \n",
            "\tDimensión/ones:\t 1\n",
            "\n",
            " -------------------------------\n",
            " Caracteríscas del objeto: obj03 \n",
            "\tTipo de objeto:\t matriz \n",
            "\tValor/es:\t [[ 2  3  5  7 11]\n",
            " [13 17 19 23 29]] \n",
            "\tShape:\t\t (2, 5) \n",
            "\tDimensión/ones:\t 2\n",
            "\n",
            " -------------------------------\n",
            " Caracteríscas del objeto: obj04 \n",
            "\tTipo de objeto:\t tensor \n",
            "\tValor/es:\t [[[ 2  3  5  7 11]\n",
            "  [13 17 19 23 29]]\n",
            "\n",
            " [[ 2  4  6  8 10]\n",
            "  [12 14 16 18 20]]\n",
            "\n",
            " [[ 1  3  5  7  9]\n",
            "  [11 13 15 17 19]]] \n",
            "\tShape:\t\t (3, 2, 5) \n",
            "\tDimensión/ones:\t 3\n",
            "\n",
            " -------------------------------\n",
            " Caracteríscas del objeto: obj05 - original - \n",
            "\tTipo de objeto:\t matriz \n",
            "\tValor/es:\t [[0 1]\n",
            " [2 3]\n",
            " [4 5]\n",
            " [6 7]] \n",
            "\tShape:\t\t (4, 2) \n",
            "\tDimensión/ones:\t 2\n",
            "\n",
            " -------------------------------\n",
            " Caracteríscas del objeto: obj05 - reshape(8, 1) - \n",
            "\tTipo de objeto:\t matriz \n",
            "\tValor/es:\t [[0]\n",
            " [1]\n",
            " [2]\n",
            " [3]\n",
            " [4]\n",
            " [5]\n",
            " [6]\n",
            " [7]] \n",
            "\tShape:\t\t (8, 1) \n",
            "\tDimensión/ones:\t 2\n",
            "\n",
            " -------------------------------\n",
            " Caracteríscas del objeto: obj05 - reshape(2, 4) - \n",
            "\tTipo de objeto:\t matriz \n",
            "\tValor/es:\t [[0 1 2 3]\n",
            " [4 5 6 7]] \n",
            "\tShape:\t\t (2, 4) \n",
            "\tDimensión/ones:\t 2\n",
            "\n",
            " -------------------------------\n",
            " Caracteríscas del objeto: obj05 - reshape(2, 4) - \n",
            "\tTipo de objeto:\t matriz \n",
            "\tValor/es:\t [[0 1 2 3]\n",
            " [4 5 6 7]] \n",
            "\tShape:\t\t (2, 4) \n",
            "\tDimensión/ones:\t 2\n",
            "\n",
            " -------------------------------\n",
            " Caracteríscas del objeto: obj05 - original - \n",
            "\tTipo de objeto:\t matriz \n",
            "\tValor/es:\t [[0 1]\n",
            " [2 3]\n",
            " [4 5]\n",
            " [6 7]] \n",
            "\tShape:\t\t (4, 2) \n",
            "\tDimensión/ones:\t 2\n",
            "\n",
            " -------------------------------\n",
            " Caracteríscas del objeto: obj05 - traspuesta - \n",
            "\tTipo de objeto:\t matriz \n",
            "\tValor/es:\t [[0 2 4 6]\n",
            " [1 3 5 7]] \n",
            "\tShape:\t\t (2, 4) \n",
            "\tDimensión/ones:\t 2\n"
          ]
        }
      ]
    }
  ]
}